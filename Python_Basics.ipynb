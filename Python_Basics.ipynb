{
  "nbformat": 4,
  "nbformat_minor": 0,
  "metadata": {
    "colab": {
      "provenance": []
    },
    "kernelspec": {
      "name": "python3",
      "display_name": "Python 3"
    },
    "language_info": {
      "name": "python"
    }
  },
  "cells": [
    {
      "cell_type": "markdown",
      "source": [
        "*PYTHON BASICS*\n",
        "\n",
        "1. What is Python, and why is it popular?\n",
        "    - python is a programming languge that is easy to understand and write making it a popular choice among developers and programmers. It is compatible with various programming paradigms, such as procedural, object oriented, and function programming.\n",
        "\n",
        "2. What is an interpreter in Python?\n",
        "    - In Python, an interpreter is a program that reads and executes Python code line by line.\n",
        "\n",
        "3. What are pre-defined keywords in Python?\n",
        "    - Pre-defined keyward in python are ( if, else, for, while, def, class, import, return, try, except, finally, and, or, not, in, is, none, true, and, false ).\n",
        "\n",
        "4. Can keywords be used as variable names?\n",
        "    - No, keywords cannot be used as variable names.\n",
        "\n",
        "5. What is mutability in Python?\n",
        "    - In Python, mutability refers to an object's ability to be modified after it's created. A mutable object can have its state or value changed without creating a new object. This means that operations can directly alter the object's internal data.\n",
        "\n",
        "6. Why are lists mutable, but tuples are immutable?\n",
        "    - Tuples and lists are the same in every way except two: tuples use parentheses instead of square brackets, and the items in tuples cannot be modified. We often call lists mutable and tuples immutable.\n",
        "\n",
        "7. What is the difference between “==” and “is” operators in Python?\n",
        "    - The \"==\" and \"is\" operators in Python serve different comparison purposes. The \"==\" operator checks for equality of value, while the \"is\" operator checks for identity.\n",
        "\n",
        "8. What are logical operators in Python?\n",
        "    - Logical operators in Python are used to combine or modify boolean values (True or False). There are three main logical operators: and, or, and not.\n",
        "\n",
        "9. What is type casting in Python?\n",
        "    - Type casting in Python, also known as type conversion, is the process of changing a variable's data type to another. Python supports two types of type casting: implicit and explicit.\n",
        "\n",
        "10. What is the difference between implicit and explicit type casting?\n",
        "     - Implicit and explicit type casting, also known as type conversion, are mechanisms for converting a value from one data type to another. Implicit type casting happens automatically by the compiler, while explicit type casting requires the programmer to define the conversion using specific syntax.  \n",
        "\n",
        "11. What is the purpose of conditional statements in Python?\n",
        "     - Conditional statements in Python enable programs to make decisions and execute different code blocks based on whether specific conditions are met. They control the flow of execution, allowing for dynamic and responsive behavior. The primary conditional statements in Python are if, elif, and else.\n",
        "\n",
        "12. How does the elif statement work?\n",
        "     - The “elif” keyword in Python, stands for “else if”. It can be used in conditional statements to check for multiple conditions. For example, if the first condition is false, it moves on to the next “elif” statement to check if that condition is true.\n",
        "\n",
        "13. What is the difference between for and while loops?\n",
        "     - The main difference between for and while loops lies in when the number of iterations is known beforehand. for loops are used when the number of iterations is known or can be easily determined at the beginning of the loop, while while loops are used when the number of iterations is dependent on a dynamic condition and is not known in advance.\n",
        "\n",
        "14. Describe a scenario where a while loop is more suitable than a for loop?\n",
        "      - n programming, for loops are best used when you know the number of iterations ahead of time, whereas a while loop is best used when you don't know the number of iterations in advance. Both methods can help you iterate through your code.\n"
      ],
      "metadata": {
        "id": "B297D5K2a2l4"
      }
    },
    {
      "cell_type": "code",
      "source": [],
      "metadata": {
        "id": "kPku0FDnbfHY"
      },
      "execution_count": null,
      "outputs": []
    },
    {
      "cell_type": "markdown",
      "source": [
        "1. Write a Python program to print \"Hello, World!"
      ],
      "metadata": {
        "id": "ODyDdTc8t2gF"
      }
    },
    {
      "cell_type": "code",
      "source": [
        "print(\"Hello world\")"
      ],
      "metadata": {
        "colab": {
          "base_uri": "https://localhost:8080/"
        },
        "id": "ru1PMROIdClt",
        "outputId": "6a32e3a9-6368-46fe-cccc-05512afea69f"
      },
      "execution_count": null,
      "outputs": [
        {
          "output_type": "stream",
          "name": "stdout",
          "text": [
            "Hello world\n"
          ]
        }
      ]
    },
    {
      "cell_type": "code",
      "source": [],
      "metadata": {
        "id": "8dUh_QWqoz15"
      },
      "execution_count": null,
      "outputs": []
    },
    {
      "cell_type": "markdown",
      "source": [
        "2. Write a Python program that displays your name and age"
      ],
      "metadata": {
        "id": "80du5VRFuOhT"
      }
    },
    {
      "cell_type": "code",
      "source": [
        "name = \"Faiz ahmed\"\n",
        "age = 23\n",
        "\n",
        "print(\"name:\",name)\n",
        "print(\"age:\",age)"
      ],
      "metadata": {
        "colab": {
          "base_uri": "https://localhost:8080/"
        },
        "id": "ZlbOIC7Ae0t2",
        "outputId": "e03c5016-c7e3-42de-e9cc-5aee9aea9cb5"
      },
      "execution_count": null,
      "outputs": [
        {
          "output_type": "stream",
          "name": "stdout",
          "text": [
            "name: Faiz ahmed\n",
            "age: 23\n"
          ]
        }
      ]
    },
    {
      "cell_type": "code",
      "source": [],
      "metadata": {
        "id": "6Lv4wmDvo1Cs"
      },
      "execution_count": null,
      "outputs": []
    },
    {
      "cell_type": "markdown",
      "source": [
        "3. Write code to print all the pre-defined keywords in Python using the keyword library"
      ],
      "metadata": {
        "id": "wbWj83YkuZHP"
      }
    },
    {
      "cell_type": "code",
      "source": [
        "help('keywords')"
      ],
      "metadata": {
        "colab": {
          "base_uri": "https://localhost:8080/"
        },
        "id": "onGZ5-t_fKl6",
        "outputId": "31ce2175-47e2-41dc-f180-281cb473985c"
      },
      "execution_count": null,
      "outputs": [
        {
          "output_type": "stream",
          "name": "stdout",
          "text": [
            "\n",
            "Here is a list of the Python keywords.  Enter any keyword to get more help.\n",
            "\n",
            "False               class               from                or\n",
            "None                continue            global              pass\n",
            "True                def                 if                  raise\n",
            "and                 del                 import              return\n",
            "as                  elif                in                  try\n",
            "assert              else                is                  while\n",
            "async               except              lambda              with\n",
            "await               finally             nonlocal            yield\n",
            "break               for                 not                 \n",
            "\n"
          ]
        }
      ]
    },
    {
      "cell_type": "code",
      "source": [],
      "metadata": {
        "id": "s_NnSozro2Tq"
      },
      "execution_count": null,
      "outputs": []
    },
    {
      "cell_type": "markdown",
      "source": [
        " 4.Write a program that checks if a given word is a Python keyword."
      ],
      "metadata": {
        "id": "vyr0fNzsut5P"
      }
    },
    {
      "cell_type": "code",
      "source": [
        "import keyword\n",
        "\n",
        "s = 'for'\n",
        "\n",
        "# Check if it's a Python keyword\n",
        "if keyword.iskeyword(s):\n",
        "    print(f\"'{s}' is a Python keyword.\")\n",
        "else:\n",
        "    print(f\"'{s}' is not a Python keyword.\")"
      ],
      "metadata": {
        "colab": {
          "base_uri": "https://localhost:8080/"
        },
        "id": "qpnywFgz9b9s",
        "outputId": "7bf03d89-efaf-4ec4-ec57-ab897119cd61"
      },
      "execution_count": null,
      "outputs": [
        {
          "output_type": "stream",
          "name": "stdout",
          "text": [
            "'for' is a Python keyword.\n"
          ]
        }
      ]
    },
    {
      "cell_type": "code",
      "source": [],
      "metadata": {
        "id": "O_PfOCG0_ekX"
      },
      "execution_count": null,
      "outputs": []
    },
    {
      "cell_type": "markdown",
      "source": [
        "5. Create a list and tuple in Python, and demonstrate how attempting to change an element works differently\n",
        "for each."
      ],
      "metadata": {
        "id": "bNgrOUieAZHz"
      }
    },
    {
      "cell_type": "code",
      "source": [
        "# Creating a list\n",
        "my_list = [1, 2, 3]\n",
        "print(\"Original list:\", my_list)\n",
        "\n",
        "# Modifying an element in the list\n",
        "my_list[1] = 10\n",
        "print(\"Modified list:\", my_list)\n",
        "\n",
        "# Creating a tuple\n",
        "my_tuple = (4, 5, 6)\n",
        "print(\"Original tuple:\", my_tuple)\n",
        "\n",
        "# Attempting to modify an element in the tuple\n",
        "try:\n",
        "    my_tuple[1] = 20\n",
        "except TypeError as e:\n",
        "    print(\"Error:\", e)"
      ],
      "metadata": {
        "colab": {
          "base_uri": "https://localhost:8080/"
        },
        "id": "Mcw5RMsHAesO",
        "outputId": "ab5a681d-dafa-4128-f9cd-32e44df10811"
      },
      "execution_count": null,
      "outputs": [
        {
          "output_type": "stream",
          "name": "stdout",
          "text": [
            "Original list: [1, 2, 3]\n",
            "Modified list: [1, 10, 3]\n",
            "Original tuple: (4, 5, 6)\n",
            "Error: 'tuple' object does not support item assignment\n"
          ]
        }
      ]
    },
    {
      "cell_type": "code",
      "source": [],
      "metadata": {
        "id": "koo9ERaMLRJk"
      },
      "execution_count": null,
      "outputs": []
    },
    {
      "cell_type": "markdown",
      "source": [
        "6. Write a function to demonstrate the behavior of mutable and immutable arguments"
      ],
      "metadata": {
        "id": "VMT8VBpkBDkO"
      }
    },
    {
      "cell_type": "code",
      "source": [
        "def modify_args(immutable, mutable):\n",
        "    immutable += 10\n",
        "    mutable.append(4)\n",
        "    print(\"Inside the function:\")\n",
        "    print(\"Immutable:\", immutable)\n",
        "    print(\"Mutable:\", mutable)\n",
        "\n",
        "# Immutable argument (integer)\n",
        "num = 5\n",
        "# Mutable argument (list)\n",
        "my_list = [1, 2, 3]\n",
        "\n",
        "print(\"Before function call:\")\n",
        "print(\"Immutable:\", num)\n",
        "print(\"Mutable:\", my_list)\n",
        "\n",
        "modify_args(num, my_list)\n",
        "\n",
        "print(\"After function call:\")\n",
        "print(\"Immutable:\", num)\n",
        "print(\"Mutable:\", my_list)"
      ],
      "metadata": {
        "colab": {
          "base_uri": "https://localhost:8080/"
        },
        "id": "-CAW_aGmH6ev",
        "outputId": "1bbd3269-c2d2-4553-a25e-b292ea63f8f7"
      },
      "execution_count": null,
      "outputs": [
        {
          "output_type": "stream",
          "name": "stdout",
          "text": [
            "Before function call:\n",
            "Immutable: 5\n",
            "Mutable: [1, 2, 3]\n",
            "Inside the function:\n",
            "Immutable: 15\n",
            "Mutable: [1, 2, 3, 4]\n",
            "After function call:\n",
            "Immutable: 5\n",
            "Mutable: [1, 2, 3, 4]\n"
          ]
        }
      ]
    },
    {
      "cell_type": "code",
      "source": [],
      "metadata": {
        "id": "MJxnTgKDLLQe"
      },
      "execution_count": null,
      "outputs": []
    },
    {
      "cell_type": "markdown",
      "source": [
        "7. Write a program that performs basic arithmetic operations on two user-input numbers"
      ],
      "metadata": {
        "id": "m_foh-YxIuAg"
      }
    },
    {
      "cell_type": "markdown",
      "source": [
        "arithmatic operator\n"
      ],
      "metadata": {
        "id": "Ogc5pHLnKwkn"
      }
    },
    {
      "cell_type": "code",
      "source": [
        "a = 3\n",
        "b = 2\n",
        "a+b"
      ],
      "metadata": {
        "colab": {
          "base_uri": "https://localhost:8080/"
        },
        "id": "xF3kxZwbLZ22",
        "outputId": "266a2024-0d67-448e-ab93-b43cec63939b"
      },
      "execution_count": null,
      "outputs": [
        {
          "output_type": "execute_result",
          "data": {
            "text/plain": [
              "5"
            ]
          },
          "metadata": {},
          "execution_count": 11
        }
      ]
    },
    {
      "cell_type": "code",
      "source": [
        "add = a+b\n",
        "add"
      ],
      "metadata": {
        "colab": {
          "base_uri": "https://localhost:8080/"
        },
        "id": "LEAxkNjELntA",
        "outputId": "7ef62144-8345-4d07-8abd-b3af242a0342"
      },
      "execution_count": null,
      "outputs": [
        {
          "output_type": "execute_result",
          "data": {
            "text/plain": [
              "5"
            ]
          },
          "metadata": {},
          "execution_count": 13
        }
      ]
    },
    {
      "cell_type": "code",
      "source": [
        "100-3"
      ],
      "metadata": {
        "colab": {
          "base_uri": "https://localhost:8080/"
        },
        "id": "TYcZ06xiL2n7",
        "outputId": "8025700f-9bab-4b4d-e45f-5b6e1414431d"
      },
      "execution_count": null,
      "outputs": [
        {
          "output_type": "execute_result",
          "data": {
            "text/plain": [
              "97"
            ]
          },
          "metadata": {},
          "execution_count": 16
        }
      ]
    },
    {
      "cell_type": "code",
      "source": [
        "3-5"
      ],
      "metadata": {
        "colab": {
          "base_uri": "https://localhost:8080/"
        },
        "id": "10SNMpwKMGwd",
        "outputId": "da35ca48-881b-4a2b-d137-1096afd67c67"
      },
      "execution_count": null,
      "outputs": [
        {
          "output_type": "execute_result",
          "data": {
            "text/plain": [
              "-2"
            ]
          },
          "metadata": {},
          "execution_count": 17
        }
      ]
    },
    {
      "cell_type": "code",
      "source": [
        "3*8"
      ],
      "metadata": {
        "colab": {
          "base_uri": "https://localhost:8080/"
        },
        "id": "ZTim_VUHMOrO",
        "outputId": "4704ca49-adc6-4547-ac37-cdc58edce013"
      },
      "execution_count": null,
      "outputs": [
        {
          "output_type": "execute_result",
          "data": {
            "text/plain": [
              "24"
            ]
          },
          "metadata": {},
          "execution_count": 18
        }
      ]
    },
    {
      "cell_type": "code",
      "source": [
        "21/5"
      ],
      "metadata": {
        "colab": {
          "base_uri": "https://localhost:8080/"
        },
        "id": "ifU4KxPXMYI0",
        "outputId": "cdc46fca-bc70-46a0-ff09-cbaff1e3f17b"
      },
      "execution_count": null,
      "outputs": [
        {
          "output_type": "execute_result",
          "data": {
            "text/plain": [
              "4.2"
            ]
          },
          "metadata": {},
          "execution_count": 22
        }
      ]
    },
    {
      "cell_type": "code",
      "source": [
        "16/4"
      ],
      "metadata": {
        "colab": {
          "base_uri": "https://localhost:8080/"
        },
        "id": "jmShuJ04MbDx",
        "outputId": "26bef953-de1a-476c-bae0-34586d33e14d"
      },
      "execution_count": null,
      "outputs": [
        {
          "output_type": "execute_result",
          "data": {
            "text/plain": [
              "4.0"
            ]
          },
          "metadata": {},
          "execution_count": 23
        }
      ]
    },
    {
      "cell_type": "code",
      "source": [],
      "metadata": {
        "id": "v5rXpPcPMlDt"
      },
      "execution_count": null,
      "outputs": []
    },
    {
      "cell_type": "markdown",
      "source": [
        "8. Write a program to demonstrate the use of logical operators"
      ],
      "metadata": {
        "id": "yUqtL-G0Mw-f"
      }
    },
    {
      "cell_type": "code",
      "source": [
        "#logical operaters\n",
        "#and\n",
        "#or\n",
        "True and True\n"
      ],
      "metadata": {
        "colab": {
          "base_uri": "https://localhost:8080/"
        },
        "id": "UvO6g2REM4Um",
        "outputId": "62133ff1-10d1-4a86-dc9a-1ae77ec020fc"
      },
      "execution_count": null,
      "outputs": [
        {
          "output_type": "execute_result",
          "data": {
            "text/plain": [
              "True"
            ]
          },
          "metadata": {},
          "execution_count": 25
        }
      ]
    },
    {
      "cell_type": "code",
      "source": [
        "True and False"
      ],
      "metadata": {
        "colab": {
          "base_uri": "https://localhost:8080/"
        },
        "id": "-NW8PsqbOsD0",
        "outputId": "d479ef61-b1b9-4820-a0a2-f3496955389d"
      },
      "execution_count": null,
      "outputs": [
        {
          "output_type": "execute_result",
          "data": {
            "text/plain": [
              "False"
            ]
          },
          "metadata": {},
          "execution_count": 26
        }
      ]
    },
    {
      "cell_type": "code",
      "source": [
        "False and True"
      ],
      "metadata": {
        "colab": {
          "base_uri": "https://localhost:8080/"
        },
        "id": "Qf0l4iIRO4bi",
        "outputId": "5016b18b-c631-4317-eb75-46beb8d2bc1c"
      },
      "execution_count": null,
      "outputs": [
        {
          "output_type": "execute_result",
          "data": {
            "text/plain": [
              "False"
            ]
          },
          "metadata": {},
          "execution_count": 27
        }
      ]
    },
    {
      "cell_type": "code",
      "source": [
        "False and False"
      ],
      "metadata": {
        "colab": {
          "base_uri": "https://localhost:8080/"
        },
        "id": "B0FL5ojIO64e",
        "outputId": "99d5cf02-60e9-48fc-d01b-f23dcbe208d9"
      },
      "execution_count": null,
      "outputs": [
        {
          "output_type": "execute_result",
          "data": {
            "text/plain": [
              "False"
            ]
          },
          "metadata": {},
          "execution_count": 28
        }
      ]
    },
    {
      "cell_type": "code",
      "source": [
        "True or True"
      ],
      "metadata": {
        "colab": {
          "base_uri": "https://localhost:8080/"
        },
        "id": "rBCmFOz6PAxH",
        "outputId": "32cf0e82-a7de-4c2f-f25c-d06d036e2bf8"
      },
      "execution_count": null,
      "outputs": [
        {
          "output_type": "execute_result",
          "data": {
            "text/plain": [
              "True"
            ]
          },
          "metadata": {},
          "execution_count": 29
        }
      ]
    },
    {
      "cell_type": "code",
      "source": [
        "True or False"
      ],
      "metadata": {
        "colab": {
          "base_uri": "https://localhost:8080/"
        },
        "id": "5xvDofuEPHup",
        "outputId": "54cfdaab-8fba-4c8d-8fe2-e33a7748bec9"
      },
      "execution_count": null,
      "outputs": [
        {
          "output_type": "execute_result",
          "data": {
            "text/plain": [
              "True"
            ]
          },
          "metadata": {},
          "execution_count": 30
        }
      ]
    },
    {
      "cell_type": "code",
      "source": [
        "False or True"
      ],
      "metadata": {
        "colab": {
          "base_uri": "https://localhost:8080/"
        },
        "id": "JWMMuWrsPKiR",
        "outputId": "e9ce9704-656d-4493-a1e7-f3985c03fc2b"
      },
      "execution_count": null,
      "outputs": [
        {
          "output_type": "execute_result",
          "data": {
            "text/plain": [
              "True"
            ]
          },
          "metadata": {},
          "execution_count": 32
        }
      ]
    },
    {
      "cell_type": "code",
      "source": [
        "False or False"
      ],
      "metadata": {
        "colab": {
          "base_uri": "https://localhost:8080/"
        },
        "id": "uIAxv1JgPPt7",
        "outputId": "a3834a27-058d-4c8f-eb1a-6e6b33b74554"
      },
      "execution_count": null,
      "outputs": [
        {
          "output_type": "execute_result",
          "data": {
            "text/plain": [
              "False"
            ]
          },
          "metadata": {},
          "execution_count": 33
        }
      ]
    },
    {
      "cell_type": "code",
      "source": [
        "#not operators\n",
        "not True"
      ],
      "metadata": {
        "colab": {
          "base_uri": "https://localhost:8080/"
        },
        "id": "Ke5S4s5FPUTu",
        "outputId": "2bb2a43a-2693-4986-9f5c-6cac7813d8dd"
      },
      "execution_count": null,
      "outputs": [
        {
          "output_type": "execute_result",
          "data": {
            "text/plain": [
              "False"
            ]
          },
          "metadata": {},
          "execution_count": 36
        }
      ]
    },
    {
      "cell_type": "code",
      "source": [
        "not False"
      ],
      "metadata": {
        "colab": {
          "base_uri": "https://localhost:8080/"
        },
        "id": "MpCeOxaQPfmg",
        "outputId": "597179f1-770f-4c9b-bf93-8884098d23a0"
      },
      "execution_count": null,
      "outputs": [
        {
          "output_type": "execute_result",
          "data": {
            "text/plain": [
              "True"
            ]
          },
          "metadata": {},
          "execution_count": 37
        }
      ]
    },
    {
      "cell_type": "code",
      "source": [],
      "metadata": {
        "id": "7Gm5ysUFP4Jt"
      },
      "execution_count": null,
      "outputs": []
    },
    {
      "cell_type": "markdown",
      "source": [
        "9. Write a Python program to convert user input from string to integer, float, and boolean types"
      ],
      "metadata": {
        "id": "vSmVzE1bP5Cd"
      }
    },
    {
      "cell_type": "code",
      "source": [
        "a =\"2\"\n",
        "b = 3\n",
        "a+b"
      ],
      "metadata": {
        "colab": {
          "base_uri": "https://localhost:8080/",
          "height": 176
        },
        "id": "v0WE2xHJ3Tq_",
        "outputId": "d09b9ba3-2e9b-43a9-c3e3-bdc28b2ece05"
      },
      "execution_count": null,
      "outputs": [
        {
          "output_type": "error",
          "ename": "TypeError",
          "evalue": "can only concatenate str (not \"int\") to str",
          "traceback": [
            "\u001b[0;31m---------------------------------------------------------------------------\u001b[0m",
            "\u001b[0;31mTypeError\u001b[0m                                 Traceback (most recent call last)",
            "\u001b[0;32m<ipython-input-13-f48582e25eb1>\u001b[0m in \u001b[0;36m<cell line: 0>\u001b[0;34m()\u001b[0m\n\u001b[1;32m      1\u001b[0m \u001b[0ma\u001b[0m \u001b[0;34m=\u001b[0m\u001b[0;34m\"2\"\u001b[0m\u001b[0;34m\u001b[0m\u001b[0;34m\u001b[0m\u001b[0m\n\u001b[1;32m      2\u001b[0m \u001b[0mb\u001b[0m \u001b[0;34m=\u001b[0m \u001b[0;36m3\u001b[0m\u001b[0;34m\u001b[0m\u001b[0;34m\u001b[0m\u001b[0m\n\u001b[0;32m----> 3\u001b[0;31m \u001b[0ma\u001b[0m\u001b[0;34m+\u001b[0m\u001b[0mb\u001b[0m\u001b[0;34m\u001b[0m\u001b[0;34m\u001b[0m\u001b[0m\n\u001b[0m",
            "\u001b[0;31mTypeError\u001b[0m: can only concatenate str (not \"int\") to str"
          ]
        }
      ]
    },
    {
      "cell_type": "code",
      "source": [
        "type(a)"
      ],
      "metadata": {
        "colab": {
          "base_uri": "https://localhost:8080/"
        },
        "id": "FLYJ7j8v6c-9",
        "outputId": "2979bc70-f222-451f-ecd5-a0089460b33d"
      },
      "execution_count": null,
      "outputs": [
        {
          "output_type": "execute_result",
          "data": {
            "text/plain": [
              "str"
            ]
          },
          "metadata": {},
          "execution_count": 14
        }
      ]
    },
    {
      "cell_type": "code",
      "source": [
        "a = \"2\"\n",
        "b = 3\n",
        "int(a)+b"
      ],
      "metadata": {
        "colab": {
          "base_uri": "https://localhost:8080/"
        },
        "id": "C5LIBDpw6jZ2",
        "outputId": "e83e07f4-4d83-41e6-8e2c-311a61e7d79d"
      },
      "execution_count": null,
      "outputs": [
        {
          "output_type": "execute_result",
          "data": {
            "text/plain": [
              "5"
            ]
          },
          "metadata": {},
          "execution_count": 15
        }
      ]
    },
    {
      "cell_type": "code",
      "source": [
        "#sting to integar\n",
        "a = \"2\"\n",
        "print(type(a))\n",
        "print(type(int(*a)))"
      ],
      "metadata": {
        "colab": {
          "base_uri": "https://localhost:8080/"
        },
        "id": "SKP4OZw86t3j",
        "outputId": "5fb67d07-6f70-4384-ee21-f700fd4bd515"
      },
      "execution_count": null,
      "outputs": [
        {
          "output_type": "stream",
          "name": "stdout",
          "text": [
            "<class 'str'>\n",
            "<class 'int'>\n"
          ]
        }
      ]
    },
    {
      "cell_type": "code",
      "source": [
        "#sting to float\n",
        "a = \"2.3\"\n",
        "type(a)\n",
        "\n"
      ],
      "metadata": {
        "colab": {
          "base_uri": "https://localhost:8080/"
        },
        "id": "z8cJ-uM37LO_",
        "outputId": "9e84bc8b-5518-41e5-b108-99fcd2349a30"
      },
      "execution_count": null,
      "outputs": [
        {
          "output_type": "execute_result",
          "data": {
            "text/plain": [
              "str"
            ]
          },
          "metadata": {},
          "execution_count": 19
        }
      ]
    },
    {
      "cell_type": "code",
      "source": [
        "b = float(a)\n",
        "type(b)"
      ],
      "metadata": {
        "colab": {
          "base_uri": "https://localhost:8080/"
        },
        "id": "GaxeU_nW-Y9g",
        "outputId": "1e3335f7-c47e-4df9-ac6b-01ae550c7990"
      },
      "execution_count": null,
      "outputs": [
        {
          "output_type": "execute_result",
          "data": {
            "text/plain": [
              "float"
            ]
          },
          "metadata": {},
          "execution_count": 21
        }
      ]
    },
    {
      "cell_type": "code",
      "source": [
        "#string to boolean"
      ],
      "metadata": {
        "id": "GUDa11RfBlBd"
      },
      "execution_count": null,
      "outputs": []
    },
    {
      "cell_type": "code",
      "source": [
        "a = \"b\"\n",
        "type(a)"
      ],
      "metadata": {
        "colab": {
          "base_uri": "https://localhost:8080/"
        },
        "id": "QKCJyvZJBrgE",
        "outputId": "8d11721e-8d70-4386-9dee-73ffc09fb798"
      },
      "execution_count": null,
      "outputs": [
        {
          "output_type": "execute_result",
          "data": {
            "text/plain": [
              "str"
            ]
          },
          "metadata": {},
          "execution_count": 30
        }
      ]
    },
    {
      "cell_type": "code",
      "source": [
        "bool(\"a\")"
      ],
      "metadata": {
        "colab": {
          "base_uri": "https://localhost:8080/"
        },
        "id": "bIYN7jdvB02f",
        "outputId": "292bfa40-0dd7-4e96-b8d6-355ddfc1dfc3"
      },
      "execution_count": null,
      "outputs": [
        {
          "output_type": "execute_result",
          "data": {
            "text/plain": [
              "True"
            ]
          },
          "metadata": {},
          "execution_count": 31
        }
      ]
    },
    {
      "cell_type": "code",
      "source": [],
      "metadata": {
        "id": "_S5U6l9dCTRe"
      },
      "execution_count": null,
      "outputs": []
    },
    {
      "cell_type": "markdown",
      "source": [
        "10. Write code to demonstrate type casting with list elements"
      ],
      "metadata": {
        "id": "SZ2ZYbu1CZPU"
      }
    },
    {
      "cell_type": "code",
      "source": [
        "list = ['1', '2', '3', '4', '5']\n",
        "\n",
        "# Convert string elements to integers\n",
        "int_list = [int(x) for x in my_list]\n",
        "print(\"List of integers:\", int_list)\n",
        "\n",
        "# Convert integer elements to float\n",
        "float_list = [float(x) for x in int_list]\n",
        "print(\"List of floats:\", float_list)\n",
        "\n",
        "# Convert float elements back to strings\n",
        "str_list = [str(x) for x in float_list]\n",
        "print(\"List of strings:\", str_list)"
      ],
      "metadata": {
        "colab": {
          "base_uri": "https://localhost:8080/"
        },
        "id": "v0n0udZ3FWwO",
        "outputId": "c3ca8ede-871f-4886-ec1b-9ba8d09f319f"
      },
      "execution_count": null,
      "outputs": [
        {
          "output_type": "stream",
          "name": "stdout",
          "text": [
            "List of integers: [1, 2, 3, 4, 5]\n",
            "List of floats: [1.0, 2.0, 3.0, 4.0, 5.0]\n",
            "List of strings: ['1.0', '2.0', '3.0', '4.0', '5.0']\n"
          ]
        }
      ]
    },
    {
      "cell_type": "code",
      "source": [],
      "metadata": {
        "id": "r7pXMOwjQNtj"
      },
      "execution_count": null,
      "outputs": []
    },
    {
      "cell_type": "markdown",
      "source": [
        "11. Write a program that checks if a number is positive, negative, or zero"
      ],
      "metadata": {
        "id": "tonkH7dlPgCQ"
      }
    },
    {
      "cell_type": "code",
      "source": [
        "# The following code checks if a number is positive, negative or 0\n",
        "\n",
        "# Taking user input\n",
        "number = int(input(\"Enter a number : \"))\n",
        "\n",
        "# Condition checking\n",
        "\n",
        "# if the number is greater than 0, then positive\n",
        "# else if the number is lesser than 0, then negative\n",
        "# else number is 0\n",
        "if number>0:\n",
        "  print(number, \"is positive.\")\n",
        "elif number<0:\n",
        "  print(number, \"is negative.\")\n",
        "else:\n",
        "  print(\"Number is 0.\")"
      ],
      "metadata": {
        "colab": {
          "base_uri": "https://localhost:8080/"
        },
        "id": "KJKbKuTnUJD6",
        "outputId": "4c5975a8-921d-4b46-a381-fabcc06a7308"
      },
      "execution_count": null,
      "outputs": [
        {
          "output_type": "stream",
          "name": "stdout",
          "text": [
            "Enter a number : -4\n",
            "-4 is negative.\n"
          ]
        }
      ]
    },
    {
      "cell_type": "markdown",
      "source": [
        "12. Write a for loop to print numbers from 1 to 10"
      ],
      "metadata": {
        "id": "yjpj467EVYqI"
      }
    },
    {
      "cell_type": "code",
      "source": [
        "#for loops\n",
        "for a in range(10):\n",
        "   print(a)"
      ],
      "metadata": {
        "colab": {
          "base_uri": "https://localhost:8080/"
        },
        "id": "fH2rjDSdVd_7",
        "outputId": "01d6ecaf-1866-4369-a7ef-253539eeb9cc"
      },
      "execution_count": null,
      "outputs": [
        {
          "output_type": "stream",
          "name": "stdout",
          "text": [
            "0\n",
            "1\n",
            "2\n",
            "3\n",
            "4\n",
            "5\n",
            "6\n",
            "7\n",
            "8\n",
            "9\n"
          ]
        }
      ]
    },
    {
      "cell_type": "code",
      "source": [
        "13. Write a Python program to find the sum of all even numbers between 1 and 50"
      ],
      "metadata": {
        "id": "q0bAXcWuYZYp"
      },
      "execution_count": null,
      "outputs": []
    },
    {
      "cell_type": "code",
      "source": [
        "sum_of_evens = 0\n",
        "for number in range(2, 51, 2):\n",
        "    sum_of_evens += number\n",
        "print(sum_of_evens)"
      ],
      "metadata": {
        "colab": {
          "base_uri": "https://localhost:8080/"
        },
        "id": "0eHTC0wzat0a",
        "outputId": "3f0738cf-3f3d-42f7-ee1f-92e61e4135fb"
      },
      "execution_count": null,
      "outputs": [
        {
          "output_type": "stream",
          "name": "stdout",
          "text": [
            "650\n"
          ]
        }
      ]
    },
    {
      "cell_type": "code",
      "source": [],
      "metadata": {
        "id": "vf22AXD1bI-g"
      },
      "execution_count": null,
      "outputs": []
    },
    {
      "cell_type": "markdown",
      "source": [
        "14. Write a program to reverse a string using a while loop"
      ],
      "metadata": {
        "id": "vwjf66jletyZ"
      }
    },
    {
      "cell_type": "code",
      "source": [
        "def reverse_string(s):\n",
        "    reversed_s = \"\"\n",
        "    length = len(s) - 1\n",
        "    while length >= 0:\n",
        "        reversed_s += s[length]\n",
        "        length -= 1\n",
        "    return reversed_s\n",
        "\n",
        "input_string = \"Hello, world!\"\n",
        "reversed_string = reverse_string(input_string)\n",
        "print(f\"Original string: {input_string}\")\n",
        "print(f\"Reversed string: {reversed_string}\")"
      ],
      "metadata": {
        "colab": {
          "base_uri": "https://localhost:8080/"
        },
        "id": "n6lGCM2-iVka",
        "outputId": "fa39b3b2-346d-4f29-81c7-a27184dba3d1"
      },
      "execution_count": null,
      "outputs": [
        {
          "output_type": "stream",
          "name": "stdout",
          "text": [
            "Original string: Hello, world!\n",
            "Reversed string: !dlrow ,olleH\n"
          ]
        }
      ]
    },
    {
      "cell_type": "code",
      "source": [],
      "metadata": {
        "id": "JHehnk8eiXoh"
      },
      "execution_count": null,
      "outputs": []
    },
    {
      "cell_type": "markdown",
      "source": [
        "15. Write a Python program to calculate the factorial of a number provided by the user using a while loop"
      ],
      "metadata": {
        "id": "HzmzUUAHmbUk"
      }
    },
    {
      "cell_type": "code",
      "source": [
        "number = int(input(\"Enter a non-negative integer: \"))\n",
        "factorial = 1\n",
        "\n",
        "if number < 0:\n",
        "    print(\"Factorial is not defined for negative numbers.\")\n",
        "elif number == 0:\n",
        "    print(\"The factorial of 0 is 1.\")\n",
        "else:\n",
        "    while number > 0:\n",
        "        factorial *= number\n",
        "        number -= 1\n",
        "    print(\"The factorial is\", factorial)"
      ],
      "metadata": {
        "colab": {
          "base_uri": "https://localhost:8080/"
        },
        "id": "MpgkqGoWmuAH",
        "outputId": "ea0b71eb-41de-4e00-aba9-49a11274421b"
      },
      "execution_count": null,
      "outputs": [
        {
          "output_type": "stream",
          "name": "stdout",
          "text": [
            "Enter a non-negative integer: 1\n",
            "The factorial is 1\n"
          ]
        }
      ]
    },
    {
      "cell_type": "markdown",
      "source": [],
      "metadata": {
        "id": "uAY7aeNHmc9q"
      }
    }
  ]
}